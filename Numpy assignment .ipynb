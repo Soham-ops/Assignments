{
 "cells": [
  {
   "cell_type": "code",
   "execution_count": 5,
   "metadata": {},
   "outputs": [],
   "source": [
    "import numpy as np"
   ]
  },
  {
   "cell_type": "markdown",
   "metadata": {},
   "source": [
    "# Q1"
   ]
  },
  {
   "cell_type": "code",
   "execution_count": 6,
   "metadata": {},
   "outputs": [],
   "source": [
    "def func1(x,N):\n",
    "    return [[i**j for j in range (N-1,-1,-1)] for i in x ]# for every i create list and populate it with i**N-1..i**0"
   ]
  },
  {
   "cell_type": "code",
   "execution_count": 7,
   "metadata": {},
   "outputs": [],
   "source": [
    "inpArr = np.array([2,3,4,5])"
   ]
  },
  {
   "cell_type": "code",
   "execution_count": 8,
   "metadata": {},
   "outputs": [
    {
     "data": {
      "text/plain": [
       "array([[  8,   4,   2,   1],\n",
       "       [ 27,   9,   3,   1],\n",
       "       [ 64,  16,   4,   1],\n",
       "       [125,  25,   5,   1]])"
      ]
     },
     "execution_count": 8,
     "metadata": {},
     "output_type": "execute_result"
    }
   ],
   "source": [
    "np.array(func1(inpArr,4))"
   ]
  },
  {
   "cell_type": "markdown",
   "metadata": {},
   "source": [
    "# Q2"
   ]
  },
  {
   "cell_type": "code",
   "execution_count": 19,
   "metadata": {},
   "outputs": [],
   "source": [
    "def movingAvg(inpArray,k):\n",
    "    results = []\n",
    "    window = []\n",
    "    windowSize = k\n",
    "    for i in inpArray:\n",
    "        window.append(i)\n",
    "        if len(window) == windowSize:\n",
    "            print('MAX Window is {}'.format(window))\n",
    "            results.append(np.round(np.mean(window),decimals=2))\n",
    "            print('Calculated means are {}'.format(results))\n",
    "            window.pop(0)\n",
    "            print('POST POPPING window is {}'.format(window))\n",
    "    return results"
   ]
  },
  {
   "cell_type": "code",
   "execution_count": 20,
   "metadata": {},
   "outputs": [],
   "source": [
    "inpArr2 = np.array([3, 5, 7, 2, 8, 10, 11, 65, 72, 81, 99, 100, 150])"
   ]
  },
  {
   "cell_type": "code",
   "execution_count": 21,
   "metadata": {},
   "outputs": [
    {
     "name": "stdout",
     "output_type": "stream",
     "text": [
      "MAX Window is [3, 5, 7]\n",
      "Calculated means are [5.0]\n",
      "POST POPPING window is [5, 7]\n",
      "MAX Window is [5, 7, 2]\n",
      "Calculated means are [5.0, 4.67]\n",
      "POST POPPING window is [7, 2]\n",
      "MAX Window is [7, 2, 8]\n",
      "Calculated means are [5.0, 4.67, 5.67]\n",
      "POST POPPING window is [2, 8]\n",
      "MAX Window is [2, 8, 10]\n",
      "Calculated means are [5.0, 4.67, 5.67, 6.67]\n",
      "POST POPPING window is [8, 10]\n",
      "MAX Window is [8, 10, 11]\n",
      "Calculated means are [5.0, 4.67, 5.67, 6.67, 9.67]\n",
      "POST POPPING window is [10, 11]\n",
      "MAX Window is [10, 11, 65]\n",
      "Calculated means are [5.0, 4.67, 5.67, 6.67, 9.67, 28.67]\n",
      "POST POPPING window is [11, 65]\n",
      "MAX Window is [11, 65, 72]\n",
      "Calculated means are [5.0, 4.67, 5.67, 6.67, 9.67, 28.67, 49.33]\n",
      "POST POPPING window is [65, 72]\n",
      "MAX Window is [65, 72, 81]\n",
      "Calculated means are [5.0, 4.67, 5.67, 6.67, 9.67, 28.67, 49.33, 72.67]\n",
      "POST POPPING window is [72, 81]\n",
      "MAX Window is [72, 81, 99]\n",
      "Calculated means are [5.0, 4.67, 5.67, 6.67, 9.67, 28.67, 49.33, 72.67, 84.0]\n",
      "POST POPPING window is [81, 99]\n",
      "MAX Window is [81, 99, 100]\n",
      "Calculated means are [5.0, 4.67, 5.67, 6.67, 9.67, 28.67, 49.33, 72.67, 84.0, 93.33]\n",
      "POST POPPING window is [99, 100]\n",
      "MAX Window is [99, 100, 150]\n",
      "Calculated means are [5.0, 4.67, 5.67, 6.67, 9.67, 28.67, 49.33, 72.67, 84.0, 93.33, 116.33]\n",
      "POST POPPING window is [100, 150]\n"
     ]
    },
    {
     "data": {
      "text/plain": [
       "[5.0, 4.67, 5.67, 6.67, 9.67, 28.67, 49.33, 72.67, 84.0, 93.33, 116.33]"
      ]
     },
     "execution_count": 21,
     "metadata": {},
     "output_type": "execute_result"
    }
   ],
   "source": [
    "movingAvg(inpArr2,3)"
   ]
  },
  {
   "cell_type": "code",
   "execution_count": null,
   "metadata": {},
   "outputs": [],
   "source": []
  }
 ],
 "metadata": {
  "kernelspec": {
   "display_name": "iNeuronMlDl",
   "language": "python",
   "name": "ineuronmldl"
  },
  "language_info": {
   "codemirror_mode": {
    "name": "ipython",
    "version": 3
   },
   "file_extension": ".py",
   "mimetype": "text/x-python",
   "name": "python",
   "nbconvert_exporter": "python",
   "pygments_lexer": "ipython3",
   "version": "3.8.5"
  }
 },
 "nbformat": 4,
 "nbformat_minor": 4
}
